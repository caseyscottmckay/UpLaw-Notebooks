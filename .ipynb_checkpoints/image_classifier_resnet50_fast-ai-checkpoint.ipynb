{
 "cells": [
  {
   "cell_type": "code",
   "execution_count": null,
   "metadata": {
    "colab": {
     "base_uri": "https://localhost:8080/",
     "height": 1000
    },
    "colab_type": "code",
    "executionInfo": {
     "elapsed": 1063527,
     "status": "ok",
     "timestamp": 1580074235476,
     "user": {
      "displayName": "olebirddog theroofer",
      "photoUrl": "",
      "userId": "03859805080149291753"
     },
     "user_tz": 300
    },
    "id": "z0y7YS2TINm0",
    "outputId": "c6951e34-88f9-4501-9f9f-2c23f2b877c9"
   },
   "outputs": [],
   "source": [
    "#javascript to get img urls (run in browser console after google img search for 'teddy bear'. Note: disable add blockers to get the csv file in separate window)\n",
    "#urls=Array.from(document.querySelectorAll('.rg_i')).map(el=> el.hasAttribute('data-src')?el.getAttribute('data-src'):el.getAttribute('data-iurl'));\n",
    "#window.open('data:text/csv;charset=utf-8,' + escape(urls.join('\\n')));\n",
    "%reload_ext autoreload\n",
    "%autoreload 2\n",
    "%matplotlib inline\n",
    "from fastai import *\n",
    "from fastai.vision import *\n",
    "from fastai.widgets import *\n",
    "#from google.colab import drive\n",
    "#drive.mount('/content/drive')\n",
    "\n",
    "image_type='patents'\n",
    "learn_pkl_name = image_type + '_image_classifer_resnet50_export.pkl'\n",
    "#path = Path('/content/drive/My Drive/data/' + image_type)\n",
    "path = Path('/home/jupyter/data/'+image_type)\n",
    "classes = os.listdir(path)\n",
    "for c in classes:\n",
    "  folder = c\n",
    "  #file = 'urls_'+c+'.csv'\n",
    "  dest = path/folder\n",
    "  if not os._exists(dest):\n",
    "    dest.mkdir(parents=True, exist_ok=True)\n",
    "    #download_images(path/file, dest, max_pics=10)\n",
    "for c in classes: \n",
    "  print(c)\n",
    "  verify_images(path/c, delete=True, max_workers=8)\n",
    "np.random.seed(42)\n",
    "data = ImageDataBunch.from_folder(path, train=\".\", valid_pct=0.2,\n",
    "        ds_tfms=get_transforms(), size=224, num_workers=4).normalize(imagenet_stats)\n",
    "data.classes\n",
    "data.show_batch(rows=3, figsize=(7,8))\n",
    "data.classes, data.c, len(data.train_ds), len(data.valid_ds)\n",
    "#Train\n",
    "learn = cnn_learner(data, models.resnet50, metrics=error_rate)\n",
    "learn.lr_find()\n",
    "learn.recorder.plot()\n",
    "learn.fit_one_cycle(1) #todo original 8\n",
    "learn.save('stage-1-50')\n",
    "learn.unfreeze()\n",
    "learn.fit_one_cycle(1, max_lr=slice(1e-6, 1e-4)) #todo epochs should be 3\n",
    "learn.load('stage-1-50');\n",
    "interp = ClassificationInterpretation.from_learner(learn)\n",
    "interp.plot_confusion_matrix()\n",
    "learn.export(path/learn_pkl_name)\n",
    "#defaults.device = torch.device('cpu')\n",
    "#img = open_image(path/'advertising'/'1.BANGADSMEDIA_51.jpg')\n",
    "#img\n",
    "learn = load_learner(path, learn_pkl_name)\n",
    "pred_class,pred_idx,outputs=learn.predict(img)\n",
    "pred_class\n"
   ]
  },
  {
   "cell_type": "code",
   "execution_count": null,
   "metadata": {
    "colab": {
     "base_uri": "https://localhost:8080/",
     "height": 34
    },
    "colab_type": "code",
    "executionInfo": {
     "elapsed": 697,
     "status": "ok",
     "timestamp": 1580074369798,
     "user": {
      "displayName": "olebirddog theroofer",
      "photoUrl": "",
      "userId": "03859805080149291753"
     },
     "user_tz": 300
    },
    "id": "03tcGANWmYjt",
    "outputId": "f0f9f3b9-48e7-4b96-ba9a-49370fdae2c7"
   },
   "outputs": [],
   "source": [
    "#img = open_image(path/'carpets'/'1.fd7b9276073ab01dde5a6ed97e1ba95e.jpg')\n",
    "#img = open_image(path/'compositions_ceramic'/'5.bottle-support-patent-drawing-from-1937-mugs.jpg')\n",
    "#img\n",
    "learn = load_learner(path,learn_pkl_name)\n",
    "pred_class,pred_idx,outputs=learn.predict(img)\n",
    "pred_class\n"
   ]
  },
  {
   "cell_type": "code",
   "execution_count": null,
   "metadata": {
    "colab": {},
    "colab_type": "code",
    "id": "-3Fkb1JM02Tm"
   },
   "outputs": [],
   "source": []
  },
  {
   "cell_type": "markdown",
   "metadata": {
    "colab_type": "text",
    "id": "YFWNgK0b02hs"
   },
   "source": []
  }
 ],
 "metadata": {
  "accelerator": "GPU",
  "colab": {
   "collapsed_sections": [],
   "name": "image_classifier_resnet50.ipynb",
   "provenance": []
  },
  "kernelspec": {
   "display_name": "Python 3",
   "language": "python",
   "name": "python3"
  },
  "language_info": {
   "codemirror_mode": {
    "name": "ipython",
    "version": 3
   },
   "file_extension": ".py",
   "mimetype": "text/x-python",
   "name": "python",
   "nbconvert_exporter": "python",
   "pygments_lexer": "ipython3",
   "version": "3.7.4"
  }
 },
 "nbformat": 4,
 "nbformat_minor": 4
}
